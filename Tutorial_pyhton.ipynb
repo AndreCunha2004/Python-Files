{
  "nbformat": 4,
  "nbformat_minor": 0,
  "metadata": {
    "colab": {
      "provenance": [],
      "toc_visible": true,
      "authorship_tag": "ABX9TyPnlbN7kl+5S63p8amAFK2k",
      "include_colab_link": true
    },
    "kernelspec": {
      "name": "python3",
      "display_name": "Python 3"
    },
    "language_info": {
      "name": "python"
    }
  },
  "cells": [
    {
      "cell_type": "markdown",
      "metadata": {
        "id": "view-in-github",
        "colab_type": "text"
      },
      "source": [
        "<a href=\"https://colab.research.google.com/github/AndreCunha2004/Python-Files/blob/main/Tutorial_pyhton.ipynb\" target=\"_parent\"><img src=\"https://colab.research.google.com/assets/colab-badge.svg\" alt=\"Open In Colab\"/></a>"
      ]
    },
    {
      "cell_type": "markdown",
      "source": [
        "# Tutorial sobre os conceitos básicos de Python."
      ],
      "metadata": {
        "id": "zOD7uaQp55p1"
      }
    },
    {
      "cell_type": "code",
      "execution_count": null,
      "metadata": {
        "id": "dqydE2DB3ofL"
      },
      "outputs": [],
      "source": [
        "# prompt: Gere um programa que me ensine o básico sobre python\n",
        "\n",
        "# Bem-vindo ao tutorial básico de Python!\n",
        "\n",
        "# 1. Variáveis e Tipos de Dados\n",
        "\n",
        "# Variáveis são usadas para armazenar valores.\n",
        "nome = \"Alice\"  # String (texto)\n",
        "idade = 30      # Inteiro (número inteiro)\n",
        "altura = 1.75    # Float (número decimal)\n",
        "e_maior_de_idade = True  # Booleano (Verdadeiro ou Falso)\n",
        "\n",
        "# Podemos imprimir o valor de uma variável usando a função print().\n",
        "print(\"Nome:\", nome)\n",
        "print(\"Idade:\", idade)\n",
        "print(\"Altura:\", altura)\n",
        "print(\"É maior de idade:\", e_maior_de_idade)\n",
        "\n",
        "\n",
        "# 2. Operadores\n",
        "\n",
        "# Operadores aritméticos: +, -, *, /, // (divisão inteira), % (módulo)\n",
        "soma = 10 + 5\n",
        "diferenca = 10 - 5\n",
        "produto = 10 * 5\n",
        "divisao = 10 / 5\n",
        "resto = 10 % 3\n",
        "\n",
        "print(\"Soma:\", soma)\n",
        "print(\"Diferença:\", diferenca)\n",
        "print(\"Produto:\", produto)\n",
        "print(\"Divisão:\", divisao)\n",
        "print(\"Resto:\", resto)\n",
        "\n",
        "# Operadores de comparação: == (igual a), != (diferente de), > (maior que), < (menor que), >= (maior ou igual a), <= (menor ou igual a)\n",
        "igual = 5 == 5\n",
        "diferente = 5 != 5\n",
        "maior_que = 10 > 5\n",
        "\n",
        "print(\"Igual:\", igual)\n",
        "print(\"Diferente:\", diferente)\n",
        "print(\"Maior que:\", maior_que)\n",
        "\n",
        "# 3. Estruturas de Controle\n",
        "\n",
        "# Condicionais (if, elif, else)\n",
        "idade = 20\n",
        "if idade >= 18:\n",
        "    print(\"Você é maior de idade.\")\n",
        "else:\n",
        "    print(\"Você é menor de idade.\")\n",
        "\n",
        "# Loops (for, while)\n",
        "# Loop for para percorrer uma sequência de números\n",
        "for i in range(5):  # range(5) gera números de 0 a 4\n",
        "    print(\"Número:\", i)\n",
        "\n",
        "# Loop while para executar um bloco de código enquanto uma condição for verdadeira\n",
        "contador = 0\n",
        "while contador < 5:\n",
        "    print(\"Contador:\", contador)\n",
        "    contador += 1  # Incrementa o contador\n",
        "\n",
        "\n",
        "# 4. Listas e Tuplas\n",
        "\n",
        "# Listas são sequências mutáveis (podem ser modificadas) de elementos.\n",
        "numeros = [1, 2, 3, 4, 5]\n",
        "print(\"Lista:\", numeros)\n",
        "numeros.append(6)  # Adiciona um elemento ao final da lista\n",
        "print(\"Lista com elemento adicionado:\", numeros)\n",
        "\n",
        "# Tuplas são sequências imutáveis (não podem ser modificadas) de elementos.\n",
        "coordenadas = (10, 20)\n",
        "print(\"Coordenadas:\", coordenadas)\n",
        "\n",
        "\n",
        "# 5. Funções\n",
        "\n",
        "# Funções são blocos de código reutilizáveis que executam uma tarefa específica.\n",
        "def saudacao(nome):\n",
        "    print(\"Olá,\", nome + \"!\")\n",
        "\n",
        "saudacao(\"Maria\")\n",
        "\n",
        "\n",
        "# Existem muitos outros tópicos importantes como dicionários, classes, módulos, etc.\n",
        "# Espero que isso tenha sido útil para você começar sua jornada de aprendizado em Python!"
      ]
    },
    {
      "cell_type": "markdown",
      "source": [
        "##*Utilizando Funções para cálculo de média*\n"
      ],
      "metadata": {
        "id": "W-wECuoRm_z9"
      }
    },
    {
      "cell_type": "code",
      "source": [
        "\n",
        "def calcular_media(valores):\n",
        "  \"\"\"Calcula a média de um vetor de valores float.\n",
        "\n",
        "  Args:\n",
        "    valores: Um vetor de valores float.\n",
        "\n",
        "  Returns:\n",
        "    A média dos valores no vetor, ou None se o vetor estiver vazio.\n",
        "  \"\"\"\n",
        "  if not valores:\n",
        "    return None\n",
        "  return sum(valores) / len(valores)\n",
        "\n",
        "# Chamando a função:\n",
        "valores = [2.5, 3.8, 4.2, 1.9]\n",
        "media = calcular_media(valores)\n",
        "if media is not None:\n",
        "  print(\"A média dos valores é:\", media)\n",
        "else:\n",
        "  print(\"O vetor está vazio.\")"
      ],
      "metadata": {
        "id": "G82mGJhlmL-1"
      },
      "execution_count": null,
      "outputs": []
    },
    {
      "cell_type": "markdown",
      "source": [
        "##*Meus primeiros programa no python 3*"
      ],
      "metadata": {
        "id": "srP9KSL1nLXB"
      }
    },
    {
      "cell_type": "markdown",
      "source": [
        "###*Programando pelo IDE do python*"
      ],
      "metadata": {
        "id": "vUSYZiu1pGjA"
      }
    },
    {
      "cell_type": "code",
      "source": [
        "print('===== Desafio 02 =====')\n",
        "\n",
        "dia = input('Digite o dia em que nasceu: ')\n",
        "mes = input('Digite o mes em que nasceu: ')\n",
        "ano = input('Digite o ano em que nasceu: ')\n",
        "\n",
        "print('\\nSeu aniversário é: ', dia,'/', mes, '/', ano)"
      ],
      "metadata": {
        "collapsed": true,
        "id": "GcJH0m2-nXpV"
      },
      "execution_count": null,
      "outputs": []
    },
    {
      "cell_type": "markdown",
      "source": [
        "##*Programando direto pelo google Colab*"
      ],
      "metadata": {
        "id": "Rb1CPwvRpOpa"
      }
    },
    {
      "cell_type": "code",
      "source": [
        "### Exercício 'Average 1' - Beecrowd ###\n",
        "# Read two floating points' values of double precision A and B, corresponding to two student's grades.\n",
        "# After this, calculate the student's average, considering that grade A has weight 3.5 and B has weight 7.5.\n",
        "# Each grade can be from zero to ten, always with one digit after the decimal point.\n",
        "# Don’t forget to print the end of line after the result, otherwise you will receive “Presentation Error”.\n",
        "# Don’t forget the space before and after the equal sign.\n",
        "\n",
        "print(\"==================================\\n\")\n",
        "print(\"Cadastrando os alunos e suas notas\")\n",
        "print(\"==================================\\n\")\n",
        "\n",
        "aluno = {} # Declarando vetor de alunos\n",
        "nota_1 = {} # Declarando vetor de notas-1\n",
        "nota_2 = {} # Declarando vetor de notas-2\n",
        "\n",
        "for i in range(2):\n",
        "  aluno[i] = input(\"Digite o nome do aluno: \")\n",
        "\n",
        "print(\"\\n\")\n",
        "\n",
        "for i in range(2):\n",
        "  nota_1[i] = float(input(\"Digite a nota-1 de \" + aluno[i] + \":\"))\n",
        "  nota_2[i] = float(input(\"Digite a nota-2 de \" + aluno[i] + \":\"))\n",
        "\n",
        "print(\"\\n\")\n",
        "\n",
        "#**************************************\n",
        "# Função para calcular a média\n",
        "#**************************************\n",
        "def calcular_media(nota_1,nota_2):\n",
        "  return ( (nota_1 * 3.5 + nota_2 * 7.5) / (3.5 + 7.5) )\n",
        "\n",
        "for i in range(2):\n",
        "  print(\"Media de\", aluno[i], \"=\", calcular_media(nota_1[i], nota_2[i]))\n",
        "\n",
        "print(\"\\nFIM DO PROGRAMA!\")"
      ],
      "metadata": {
        "colab": {
          "base_uri": "https://localhost:8080/"
        },
        "id": "i1ZfmGu5rfJg",
        "outputId": "50600f71-fd29-4d65-cade-7641d26888c8"
      },
      "execution_count": 21,
      "outputs": [
        {
          "output_type": "stream",
          "name": "stdout",
          "text": [
            "==================================\n",
            "\n",
            "Cadastrando os alunos e suas notas\n",
            "==================================\n",
            "\n",
            "Digite o nome do aluno: Andre\n",
            "Digite o nome do aluno: Luana\n",
            "\n",
            "\n",
            "Digite a nota-1 de Andre:5\n",
            "Digite a nota-2 de Andre:10\n",
            "Digite a nota-1 de Luana:8\n",
            "Digite a nota-2 de Luana:4\n",
            "\n",
            "\n",
            "Media de Andre = 8.409090909090908\n",
            "Media de Luana = 5.2727272727272725\n",
            "FIM DO PROGRAMA!\n"
          ]
        }
      ]
    }
  ]
}